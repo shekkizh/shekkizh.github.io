{
 "cells": [
  {
   "cell_type": "code",
   "execution_count": null,
   "metadata": {},
   "outputs": [],
   "source": [
    "import pandas as pd"
   ]
  },
  {
   "cell_type": "code",
   "execution_count": null,
   "metadata": {},
   "outputs": [],
   "source": [
    "publications = pd.read_csv(\"publications.tsv\", sep=\"\\t\", header=0)\n",
    "publications\n"
   ]
  },
  {
   "cell_type": "code",
   "execution_count": null,
   "metadata": {},
   "outputs": [],
   "source": [
    "html_escape_table = {\n",
    "    \"&\": \"&amp;\",\n",
    "    '\"': \"&quot;\",\n",
    "    \"'\": \"&apos;\"\n",
    "    }\n",
    "\n",
    "def html_escape(text):\n",
    "    \"\"\"Produce entities within text.\"\"\"\n",
    "    return \"\".join(html_escape_table.get(c,c) for c in text)"
   ]
  },
  {
   "cell_type": "code",
   "execution_count": null,
   "metadata": {},
   "outputs": [],
   "source": [
    "!rm ../_publications/*.md"
   ]
  },
  {
   "cell_type": "code",
   "execution_count": null,
   "metadata": {},
   "outputs": [],
   "source": [
    "import os\n",
    "for row, item in publications.iterrows():\n",
    "    \n",
    "    md_filename = str(item.pub_date) + \"-\" + item.slug + \".md\"\n",
    "    html_filename = str(item.pub_date) + \"-\" + item.slug\n",
    "    year = item.pub_date[:4]\n",
    "    \n",
    "    ## YAML variables\n",
    "    \n",
    "    md = \"---\\ntitle: \\\"\"   + item.title + '\"\\n'\n",
    "    \n",
    "    md += \"\"\"collection: publications\"\"\"\n",
    "    \n",
    "    md += \"\"\"\\npermalink: /publication/\"\"\" + html_filename\n",
    "    \n",
    "    md += \"\\nauthors: '\" + html_escape(item.authors) + \"'\"\n",
    "    \n",
    "    if len(str(item.summary)) > 5:\n",
    "        md += \"\\nexcerpt: '\" + html_escape(item.summary) + \"'\"\n",
    "    \n",
    "    md += \"\\ndate: \" + str(item.pub_date) \n",
    "    \n",
    "    md += \"\\nvenue: '\" + html_escape(item.venue) + \"'\"\n",
    "    \n",
    "    if len(str(item.url)) > 5:\n",
    "        md += \"\\npaperurl: '\" + item.url + \"'\"\n",
    "    \n",
    "    md += \"\\ncitation: '\" + html_escape(item.citation) + \"'\"\n",
    "    \n",
    "    if not pd.isna(item.awards):\n",
    "        md += \"\\nawards: '\" + html_escape(item.awards) + \"'\"\n",
    "    \n",
    "    md += \"\\n---\"\n",
    "    \n",
    "    ## Markdown description for individual page\n",
    "        \n",
    "    if len(str(item.description)) > 5:\n",
    "        md += \"\\n\" + html_escape(item.description) + \"\\n\"\n",
    "    \n",
    "    if len(str(item.url)) > 5:\n",
    "        md += \"\\n[Download paper here](\" + item.url + \")\\n\" \n",
    "        \n",
    "    md += \"\\n```\\n\" + item.citation + \"\\n```\"\n",
    "    \n",
    "    md_filename = os.path.basename(md_filename)\n",
    "       \n",
    "    with open(\"../_publications/\" + md_filename, 'w') as f:\n",
    "        f.write(md)"
   ]
  },
  {
   "cell_type": "code",
   "execution_count": null,
   "metadata": {},
   "outputs": [],
   "source": [
    "!ls ../_publications/"
   ]
  },
  {
   "cell_type": "code",
   "execution_count": null,
   "metadata": {},
   "outputs": [],
   "source": [
    "!cat ../_publications/2021-08-31-cw-nnk-generalization.md"
   ]
  },
  {
   "cell_type": "code",
   "execution_count": null,
   "metadata": {},
   "outputs": [],
   "source": [
    "for row in publications['awards']:\n",
    "    if not pd.isna(row):\n",
    "        print(row)"
   ]
  },
  {
   "cell_type": "code",
   "execution_count": null,
   "metadata": {},
   "outputs": [],
   "source": [
    "patents = pd.read_csv(\"patents.tsv\", sep=\"\\t\", header=0)\n",
    "patents"
   ]
  },
  {
   "cell_type": "code",
   "execution_count": 4,
   "metadata": {},
   "outputs": [],
   "source": [
    "html_escape_table = {\n",
    "    \"&\": \"&amp;\",\n",
    "    '\"': \"&quot;\",\n",
    "    \"'\": \"&apos;\"\n",
    "    }\n",
    "\n",
    "def html_escape(text):\n",
    "    \"\"\"Produce entities within text.\"\"\"\n",
    "    return \"\".join(html_escape_table.get(c,c) for c in text)"
   ]
  },
  {
   "cell_type": "code",
   "execution_count": null,
   "metadata": {},
   "outputs": [],
   "source": [
    "!rm ../_patents/*.md"
   ]
  },
  {
   "cell_type": "code",
   "execution_count": 10,
   "metadata": {},
   "outputs": [],
   "source": [
    "def format_author_names(authors_str):\n",
    "    \"\"\"Convert 'First Last, First2 Last2' to 'F. Last, F2. Last2'\"\"\"\n",
    "    authors_list = authors_str.split(\", \")\n",
    "    formatted_authors = []\n",
    "    \n",
    "    for author in authors_list:\n",
    "        names = author.strip().split()\n",
    "        if len(names) >= 2:\n",
    "            first_initial = names[0][0]\n",
    "            last_name = names[-1]\n",
    "            formatted_authors.append(f\"{first_initial}. {last_name}\")\n",
    "    \n",
    "    return \", \".join(formatted_authors)"
   ]
  },
  {
   "cell_type": "code",
   "execution_count": 11,
   "metadata": {},
   "outputs": [],
   "source": [
    "import os\n",
    "for row, item in patents.iterrows():\n",
    "    \n",
    "    # Create filename from filing date and application number\n",
    "    md_filename = str(item.filing_date) + \"-\" + item.application_number.lower().replace(\"/\",\"-\") + \".md\"\n",
    "    html_filename = str(item.filing_date) + \"-\" + item.application_number.lower().replace(\"/\",\"-\")\n",
    "    year = str(item.filing_date)[:4]\n",
    "    \n",
    "    ## YAML variables\n",
    "    md = \"---\\ntitle: \\\"\"   + item.title + '\"\\n'\n",
    "    \n",
    "    md += \"\"\"collection: patents\"\"\"\n",
    "    \n",
    "    md += \"\"\"\\npermalink: /patent/\"\"\" + html_filename\n",
    "    \n",
    "    md += \"\\nstatus: '\" + html_escape(item.status) + \"'\"\n",
    "    \n",
    "    md += \"\\napplication_number: '\" + html_escape(item.application_number) + \"'\"\n",
    "    \n",
    "    md += \"\\nfiling_date: \" + str(item.filing_date)\n",
    "\n",
    "    md += \"\\nauthors: '\" + html_escape(format_author_names(item.inventors)) + \"'\"\n",
    "    \n",
    "    if len(str(item.abstract)) > 5:\n",
    "        md += \"\\nabstract: '\" + html_escape(item.abstract) + \"'\"\n",
    "    \n",
    "    md += \"\\n---\"\n",
    "    \n",
    "    ## Markdown description for individual page\n",
    "    if len(str(item.abstract)) > 5:\n",
    "        md += \"\\n\" + html_escape(item.abstract) + \"\\n\"\n",
    "    \n",
    "    md_filename = os.path.basename(md_filename)\n",
    "       \n",
    "    with open(\"../_patents/\" + md_filename, 'w') as f:\n",
    "        f.write(md)"
   ]
  },
  {
   "cell_type": "code",
   "execution_count": null,
   "metadata": {},
   "outputs": [],
   "source": [
    "!ls ../_patents/"
   ]
  },
  {
   "cell_type": "code",
   "execution_count": null,
   "metadata": {},
   "outputs": [],
   "source": []
  }
 ],
 "metadata": {
  "kernelspec": {
   "display_name": "Python 3 (ipykernel)",
   "language": "python",
   "name": "python3"
  },
  "language_info": {
   "codemirror_mode": {
    "name": "ipython",
    "version": 3
   },
   "file_extension": ".py",
   "mimetype": "text/x-python",
   "name": "python",
   "nbconvert_exporter": "python",
   "pygments_lexer": "ipython3",
   "version": "3.10.14"
  }
 },
 "nbformat": 4,
 "nbformat_minor": 4
}
